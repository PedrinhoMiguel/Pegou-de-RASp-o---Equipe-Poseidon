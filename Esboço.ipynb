{
  "nbformat": 4,
  "nbformat_minor": 0,
  "metadata": {
    "colab": {
      "name": "Esboço.ipynb",
      "provenance": [],
      "collapsed_sections": []
    },
    "kernelspec": {
      "display_name": "Python 3",
      "name": "python3"
    },
    "language_info": {
      "name": "python"
    }
  },
  "cells": [
    {
      "cell_type": "code",
      "metadata": {
        "id": "CYRbe9CImewt"
      },
      "source": [
        "#Importando as bibliotecas \n",
        "import numpy as np\n",
        "from random import randint \n",
        "\n",
        "#Input\n",
        "linhas = int(input(\"Digite o número de linhas: \"))\n",
        "colunas = int(input(\"Digite o número de colunas: \"))\n",
        "max_players = linhas * colunas # Número máximo de jogadores \n",
        "quantidade_players = int(input(\"Digite o número de jogadores: \"))\n",
        "\n",
        "# Impedindo que o número de jogadores seja maior que o máximo\n",
        "while quantidade_players > max_players:\n",
        "  print(\"O número de jogaores informados é maior que o máximo possível !\")\n",
        "  quantidade_players = int(input(\"Digite o número de jogadores: \"))\n",
        "\n",
        "#Criando a matriz\n",
        "matriz = np.empty([linhas,colunas],dtype= str)\n",
        "for linha in range(linhas):\n",
        "  for coluna in range(colunas):\n",
        "    matriz[linha][coluna] = 'o'\n",
        "\n",
        "\n",
        "# Colocando os jogadores em posições aleatórias\n",
        "\n",
        "contador = 0\n",
        "pos_usadas = list()\n",
        "aux = [0,0]\n",
        "while contador < quantidade_players:\n",
        "    linha_aleatoria = randint(0,linhas -1 )\n",
        "    coluna_aleatoria = randint(0,colunas - 1)\n",
        "    aux.insert(0,linha_aleatoria)\n",
        "    aux.insert(1,coluna_aleatoria)\n",
        "    matriz[linha_aleatoria][coluna_aleatoria] = 'P'\n",
        "    contador += 1\n",
        "    \n",
        "  \n",
        "    \n",
        "      \n",
        "\n",
        "# Pritando a matriz\n",
        "for linha in range(linhas):\n",
        "  print()\n",
        "  for coluna in range(colunas):\n",
        "    print(matriz[linha][coluna], end = ' ')\n"
      ],
      "execution_count": null,
      "outputs": []
    }
  ]
}